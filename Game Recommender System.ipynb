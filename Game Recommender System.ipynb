{
 "cells": [
  {
   "cell_type": "code",
   "execution_count": 1,
   "id": "d6f59b8c",
   "metadata": {},
   "outputs": [],
   "source": [
    "import numpy as np\n",
    "import pandas as pd"
   ]
  },
  {
   "cell_type": "code",
   "execution_count": 2,
   "id": "da76a79f",
   "metadata": {},
   "outputs": [],
   "source": [
    "games = pd.read_csv('games_info.csv')"
   ]
  },
  {
   "cell_type": "code",
   "execution_count": 3,
   "id": "e6efff84",
   "metadata": {},
   "outputs": [
    {
     "data": {
      "text/html": [
       "<div>\n",
       "<style scoped>\n",
       "    .dataframe tbody tr th:only-of-type {\n",
       "        vertical-align: middle;\n",
       "    }\n",
       "\n",
       "    .dataframe tbody tr th {\n",
       "        vertical-align: top;\n",
       "    }\n",
       "\n",
       "    .dataframe thead th {\n",
       "        text-align: right;\n",
       "    }\n",
       "</style>\n",
       "<table border=\"1\" class=\"dataframe\">\n",
       "  <thead>\n",
       "    <tr style=\"text-align: right;\">\n",
       "      <th></th>\n",
       "      <th>Name</th>\n",
       "      <th>Developer</th>\n",
       "      <th>Producer</th>\n",
       "      <th>Genre</th>\n",
       "      <th>Operating System</th>\n",
       "      <th>Date Released</th>\n",
       "    </tr>\n",
       "  </thead>\n",
       "  <tbody>\n",
       "    <tr>\n",
       "      <th>0</th>\n",
       "      <td>A-Men 2</td>\n",
       "      <td>Bloober Team</td>\n",
       "      <td>Bloober Team</td>\n",
       "      <td>Adventure, Puzzle</td>\n",
       "      <td>Microsoft Windows</td>\n",
       "      <td>June 24, 2015</td>\n",
       "    </tr>\n",
       "  </tbody>\n",
       "</table>\n",
       "</div>"
      ],
      "text/plain": [
       "      Name     Developer      Producer              Genre   Operating System  \\\n",
       "0  A-Men 2  Bloober Team  Bloober Team  Adventure, Puzzle  Microsoft Windows   \n",
       "\n",
       "   Date Released  \n",
       "0  June 24, 2015  "
      ]
     },
     "execution_count": 3,
     "metadata": {},
     "output_type": "execute_result"
    }
   ],
   "source": [
    "games.head(1)"
   ]
  },
  {
   "cell_type": "code",
   "execution_count": 4,
   "id": "91520118",
   "metadata": {},
   "outputs": [],
   "source": [
    "games = games[['Name','Producer','Genre']]"
   ]
  },
  {
   "cell_type": "code",
   "execution_count": 5,
   "id": "bf070749",
   "metadata": {},
   "outputs": [],
   "source": [
    "games['tags'] = games[['Producer','Genre']].apply(lambda x: ', '.join(x.dropna().astype(str)), axis=1)\n",
    "games.drop(['Producer','Genre'], axis=1, inplace=True)"
   ]
  },
  {
   "cell_type": "code",
   "execution_count": 6,
   "id": "83a76e42",
   "metadata": {},
   "outputs": [
    {
     "data": {
      "text/html": [
       "<div>\n",
       "<style scoped>\n",
       "    .dataframe tbody tr th:only-of-type {\n",
       "        vertical-align: middle;\n",
       "    }\n",
       "\n",
       "    .dataframe tbody tr th {\n",
       "        vertical-align: top;\n",
       "    }\n",
       "\n",
       "    .dataframe thead th {\n",
       "        text-align: right;\n",
       "    }\n",
       "</style>\n",
       "<table border=\"1\" class=\"dataframe\">\n",
       "  <thead>\n",
       "    <tr style=\"text-align: right;\">\n",
       "      <th></th>\n",
       "      <th>Name</th>\n",
       "      <th>tags</th>\n",
       "    </tr>\n",
       "  </thead>\n",
       "  <tbody>\n",
       "    <tr>\n",
       "      <th>0</th>\n",
       "      <td>A-Men 2</td>\n",
       "      <td>Bloober Team, Adventure, Puzzle</td>\n",
       "    </tr>\n",
       "    <tr>\n",
       "      <th>1</th>\n",
       "      <td>A-Train</td>\n",
       "      <td>Artdink, Maxis, Ocean Software, Vehicle Simula...</td>\n",
       "    </tr>\n",
       "    <tr>\n",
       "      <th>2</th>\n",
       "      <td>A-10 Cuba!</td>\n",
       "      <td>Activision, Flight simulator</td>\n",
       "    </tr>\n",
       "    <tr>\n",
       "      <th>3</th>\n",
       "      <td>A.D. 2044</td>\n",
       "      <td>LK Avalon, Adventure</td>\n",
       "    </tr>\n",
       "    <tr>\n",
       "      <th>4</th>\n",
       "      <td>A.D.A.M. Life's Greatest Mysteries</td>\n",
       "      <td>Columbia Healthcare Corporation, Educational</td>\n",
       "    </tr>\n",
       "  </tbody>\n",
       "</table>\n",
       "</div>"
      ],
      "text/plain": [
       "                                 Name  \\\n",
       "0                             A-Men 2   \n",
       "1                             A-Train   \n",
       "2                          A-10 Cuba!   \n",
       "3                           A.D. 2044   \n",
       "4  A.D.A.M. Life's Greatest Mysteries   \n",
       "\n",
       "                                                tags  \n",
       "0                    Bloober Team, Adventure, Puzzle  \n",
       "1  Artdink, Maxis, Ocean Software, Vehicle Simula...  \n",
       "2                       Activision, Flight simulator  \n",
       "3                               LK Avalon, Adventure  \n",
       "4       Columbia Healthcare Corporation, Educational  "
      ]
     },
     "execution_count": 6,
     "metadata": {},
     "output_type": "execute_result"
    }
   ],
   "source": [
    "games.head()"
   ]
  },
  {
   "cell_type": "code",
   "execution_count": 7,
   "id": "ddc9b133",
   "metadata": {},
   "outputs": [],
   "source": [
    "from sklearn.feature_extraction.text import CountVectorizer\n",
    "cv = CountVectorizer(max_features=5000,stop_words='english')"
   ]
  },
  {
   "cell_type": "code",
   "execution_count": 8,
   "id": "9cd63599",
   "metadata": {},
   "outputs": [],
   "source": [
    "cv = CountVectorizer(max_features=5000, stop_words='english')\n",
    "vector = cv.fit_transform(games['tags']).toarray()"
   ]
  },
  {
   "cell_type": "code",
   "execution_count": 9,
   "id": "b53b4355",
   "metadata": {},
   "outputs": [
    {
     "data": {
      "text/plain": [
       "(1095, 690)"
      ]
     },
     "execution_count": 9,
     "metadata": {},
     "output_type": "execute_result"
    }
   ],
   "source": [
    "vector.shape"
   ]
  },
  {
   "cell_type": "code",
   "execution_count": 10,
   "id": "f6c70266",
   "metadata": {},
   "outputs": [],
   "source": [
    "from sklearn.metrics.pairwise import cosine_similarity"
   ]
  },
  {
   "cell_type": "code",
   "execution_count": 11,
   "id": "095869d5",
   "metadata": {},
   "outputs": [],
   "source": [
    "similarity = cosine_similarity(vector)"
   ]
  },
  {
   "cell_type": "code",
   "execution_count": 12,
   "id": "ff2e0fa3",
   "metadata": {},
   "outputs": [
    {
     "data": {
      "text/plain": [
       "array([[1.        , 0.        , 0.        , ..., 0.        , 0.        ,\n",
       "        0.25      ],\n",
       "       [0.        , 1.        , 0.        , ..., 0.        , 0.        ,\n",
       "        0.18898224],\n",
       "       [0.        , 0.        , 1.        , ..., 0.        , 0.        ,\n",
       "        0.        ],\n",
       "       ...,\n",
       "       [0.        , 0.        , 0.        , ..., 1.        , 0.        ,\n",
       "        0.        ],\n",
       "       [0.        , 0.        , 0.        , ..., 0.        , 1.        ,\n",
       "        0.        ],\n",
       "       [0.25      , 0.18898224, 0.        , ..., 0.        , 0.        ,\n",
       "        1.        ]])"
      ]
     },
     "execution_count": 12,
     "metadata": {},
     "output_type": "execute_result"
    }
   ],
   "source": [
    "similarity"
   ]
  },
  {
   "cell_type": "code",
   "execution_count": 13,
   "id": "44227654",
   "metadata": {},
   "outputs": [
    {
     "data": {
      "text/html": [
       "<div>\n",
       "<style scoped>\n",
       "    .dataframe tbody tr th:only-of-type {\n",
       "        vertical-align: middle;\n",
       "    }\n",
       "\n",
       "    .dataframe tbody tr th {\n",
       "        vertical-align: top;\n",
       "    }\n",
       "\n",
       "    .dataframe thead th {\n",
       "        text-align: right;\n",
       "    }\n",
       "</style>\n",
       "<table border=\"1\" class=\"dataframe\">\n",
       "  <thead>\n",
       "    <tr style=\"text-align: right;\">\n",
       "      <th></th>\n",
       "      <th>Name</th>\n",
       "      <th>tags</th>\n",
       "    </tr>\n",
       "  </thead>\n",
       "  <tbody>\n",
       "    <tr>\n",
       "      <th>0</th>\n",
       "      <td>A-Men 2</td>\n",
       "      <td>Bloober Team, Adventure, Puzzle</td>\n",
       "    </tr>\n",
       "    <tr>\n",
       "      <th>1</th>\n",
       "      <td>A-Train</td>\n",
       "      <td>Artdink, Maxis, Ocean Software, Vehicle Simula...</td>\n",
       "    </tr>\n",
       "    <tr>\n",
       "      <th>2</th>\n",
       "      <td>A-10 Cuba!</td>\n",
       "      <td>Activision, Flight simulator</td>\n",
       "    </tr>\n",
       "    <tr>\n",
       "      <th>3</th>\n",
       "      <td>A.D. 2044</td>\n",
       "      <td>LK Avalon, Adventure</td>\n",
       "    </tr>\n",
       "    <tr>\n",
       "      <th>4</th>\n",
       "      <td>A.D.A.M. Life's Greatest Mysteries</td>\n",
       "      <td>Columbia Healthcare Corporation, Educational</td>\n",
       "    </tr>\n",
       "  </tbody>\n",
       "</table>\n",
       "</div>"
      ],
      "text/plain": [
       "                                 Name  \\\n",
       "0                             A-Men 2   \n",
       "1                             A-Train   \n",
       "2                          A-10 Cuba!   \n",
       "3                           A.D. 2044   \n",
       "4  A.D.A.M. Life's Greatest Mysteries   \n",
       "\n",
       "                                                tags  \n",
       "0                    Bloober Team, Adventure, Puzzle  \n",
       "1  Artdink, Maxis, Ocean Software, Vehicle Simula...  \n",
       "2                       Activision, Flight simulator  \n",
       "3                               LK Avalon, Adventure  \n",
       "4       Columbia Healthcare Corporation, Educational  "
      ]
     },
     "execution_count": 13,
     "metadata": {},
     "output_type": "execute_result"
    }
   ],
   "source": [
    "games.drop_duplicates(subset=['Name'], keep='first', inplace=True)\n",
    "games.head()"
   ]
  },
  {
   "cell_type": "code",
   "execution_count": 14,
   "id": "4ee66884",
   "metadata": {},
   "outputs": [],
   "source": [
    "def recommend(game):\n",
    "    index = games[games['Name'] == game].index[0]\n",
    "    distances = sorted(list(enumerate(similarity[index])), reverse=True, key=lambda x: x[1])\n",
    "    recommended_games = []\n",
    "    for i in distances[1:6]:\n",
    "        recommended_games.append(games.iloc[i[0]].Name)\n",
    "    if game in recommended_games:\n",
    "        recommended_games.remove(game)\n",
    "        recommended_games.append(games.iloc[distances[6][0]].Name)\n",
    "    return recommended_games"
   ]
  },
  {
   "cell_type": "code",
   "execution_count": 17,
   "id": "08ceffcf",
   "metadata": {},
   "outputs": [
    {
     "data": {
      "text/plain": [
       "[\"Brothers in Arms: Hell's Highway\",\n",
       " 'Brothers in Arms: Road to Hill 30',\n",
       " 'Far Cry',\n",
       " 'Far Cry 2',\n",
       " 'Far Cry 3: Blood Dragon']"
      ]
     },
     "execution_count": 17,
     "metadata": {},
     "output_type": "execute_result"
    }
   ],
   "source": [
    "recommend('Far Cry 3')"
   ]
  },
  {
   "cell_type": "code",
   "execution_count": 16,
   "id": "6826fdaa",
   "metadata": {},
   "outputs": [],
   "source": [
    "import pickle\n",
    "pickle.dump(games,open('game_list.pkl','wb'))\n",
    "pickle.dump(similarity,open('similarity.pkl','wb'))"
   ]
  },
  {
   "cell_type": "code",
   "execution_count": null,
   "id": "cd77f2cd",
   "metadata": {},
   "outputs": [],
   "source": []
  }
 ],
 "metadata": {
  "kernelspec": {
   "display_name": "Python 3 (ipykernel)",
   "language": "python",
   "name": "python3"
  },
  "language_info": {
   "codemirror_mode": {
    "name": "ipython",
    "version": 3
   },
   "file_extension": ".py",
   "mimetype": "text/x-python",
   "name": "python",
   "nbconvert_exporter": "python",
   "pygments_lexer": "ipython3",
   "version": "3.11.5"
  }
 },
 "nbformat": 4,
 "nbformat_minor": 5
}
